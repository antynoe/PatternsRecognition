{
 "cells": [
  {
   "cell_type": "code",
   "execution_count": 1,
   "metadata": {},
   "outputs": [
    {
     "data": {
      "text/plain": [
       "PatternRecognitionNet(\n",
       "  (conv1): Conv2d(1, 6, kernel_size=(3, 3), stride=(1, 1))\n",
       "  (conv2): Conv2d(6, 16, kernel_size=(3, 3), stride=(1, 1))\n",
       "  (fc1): Linear(in_features=85264, out_features=120, bias=True)\n",
       "  (fc2): Linear(in_features=120, out_features=84, bias=True)\n",
       "  (fc3): Linear(in_features=84, out_features=6, bias=True)\n",
       ")"
      ]
     },
     "execution_count": 1,
     "metadata": {},
     "output_type": "execute_result"
    }
   ],
   "source": [
    "from PIL import Image\n",
    "from skimage import io, transform\n",
    "\n",
    "import torch\n",
    "import torch.nn as nn\n",
    "import torch.nn.functional as F\n",
    "import torchvision as tv\n",
    "\n",
    "outputs = [\n",
    "    \"Dots\",\n",
    "    \"Paisley\",\n",
    "    \"Qua\",\n",
    "    \"Square\",\n",
    "    \"Strips\",\n",
    "    \"Traingles\"\n",
    "]\n",
    "\n",
    "\n",
    "# nn model using pytorch schematic\n",
    "class PatternRecognitionNet(nn.Module):\n",
    "\n",
    "    def __init__(self):\n",
    "        super(PatternRecognitionNet, self).__init__()\n",
    "\n",
    "        self.conv1 = nn.Conv2d(1, 6, 3)\n",
    "        self.conv2 = nn.Conv2d(6, 16, 3)\n",
    "        self.fc1 = nn.Linear(16 * 73 * 73, 120) \n",
    "        self.fc2 = nn.Linear(120, 84)\n",
    "        self.fc3 = nn.Linear(84, 6)\n",
    "\n",
    "    def forward(self, x):\n",
    "        x = F.max_pool2d(F.relu(self.conv1(x)), (2, 2))\n",
    "        x = F.max_pool2d(F.relu(self.conv2(x)), 2)\n",
    "        x = x.view(-1, self.num_flat_features(x))\n",
    "        x = F.relu(self.fc1(x))\n",
    "        x = F.relu(self.fc2(x))\n",
    "        x = self.fc3(x)\n",
    "        return x\n",
    "\n",
    "    def num_flat_features(self, x):\n",
    "        size = x.size()[1:]\n",
    "        num_features = 1\n",
    "        for s in size:\n",
    "            num_features *= s\n",
    "        return num_features\n",
    "    \n",
    "def getImageTensor():\n",
    "    \n",
    "    # loading image from local memory\n",
    "    path = \"/home/krys/POLIBUDA/Patterns_database/test_image/\"\n",
    "    image_name = input()\n",
    "    \n",
    "    i_path = path + image_name\n",
    "    image = io.imread(i_path)\n",
    "    \n",
    "    return image\n",
    "    \n",
    "\n",
    "# transforms image to grayscale tensor\n",
    "def myTransform(image):\n",
    "\n",
    "    transformedImage =  tv.transforms.Compose([\n",
    "                        tv.transforms.ToPILImage(),\n",
    "                        tv.transforms.Grayscale(num_output_channels=1),\n",
    "                        tv.transforms.ToTensor()\n",
    "                      ])(image)\n",
    "    \n",
    "    transformedImage = transformedImage[0]\n",
    "\n",
    "    return transformedImage\n",
    "\n",
    "# create parrter recognition model \n",
    "\n",
    "PATH = \"/home/krys/POLIBUDA/Patterns_database/model.pt\"\n",
    "\n",
    "pattNet = PatternRecognitionNet()\n",
    "pattNet.load_state_dict(torch.load(PATH))\n",
    "pattNet.eval()"
   ]
  },
  {
   "cell_type": "code",
   "execution_count": 2,
   "metadata": {},
   "outputs": [
    {
     "name": "stdout",
     "output_type": "stream",
     "text": [
      "tr54.jpg\n",
      "tensor([[ 0.1096, -0.0074,  0.0766,  0.0657, -0.0219,  0.7740]],\n",
      "       grad_fn=<AddmmBackward>)\n",
      "\n",
      "\n",
      "Your predicted output is: Traingles\n"
     ]
    }
   ],
   "source": [
    "image = getImageTensor()\n",
    "t_image = myTransform(image)\n",
    "input = t_image.view(-1,1,300,300)\n",
    "output = pattNet(input)\n",
    "print(output)\n",
    "val, idx = output[0].max(0)\n",
    "\n",
    "print(\"\\n\")\n",
    "print(\"Your predicted output is:\", outputs[idx])"
   ]
  },
  {
   "cell_type": "code",
   "execution_count": null,
   "metadata": {},
   "outputs": [],
   "source": []
  },
  {
   "cell_type": "code",
   "execution_count": null,
   "metadata": {},
   "outputs": [],
   "source": []
  }
 ],
 "metadata": {
  "kernelspec": {
   "display_name": "Python 3",
   "language": "python",
   "name": "python3"
  },
  "language_info": {
   "codemirror_mode": {
    "name": "ipython",
    "version": 3
   },
   "file_extension": ".py",
   "mimetype": "text/x-python",
   "name": "python",
   "nbconvert_exporter": "python",
   "pygments_lexer": "ipython3",
   "version": "3.7.3"
  }
 },
 "nbformat": 4,
 "nbformat_minor": 2
}

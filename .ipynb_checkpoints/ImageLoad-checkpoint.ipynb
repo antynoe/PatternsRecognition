{
 "cells": [
  {
   "cell_type": "code",
   "execution_count": 77,
   "metadata": {},
   "outputs": [
    {
     "ename": "TypeError",
     "evalue": "'str' object is not callable",
     "output_type": "error",
     "traceback": [
      "\u001b[0;31m---------------------------------------------------------------------------\u001b[0m",
      "\u001b[0;31mTypeError\u001b[0m                                 Traceback (most recent call last)",
      "\u001b[0;32m<ipython-input-77-9a4e101bfe34>\u001b[0m in \u001b[0;36m<module>\u001b[0;34m\u001b[0m\n\u001b[1;32m     46\u001b[0m \u001b[0;34m\u001b[0m\u001b[0m\n\u001b[1;32m     47\u001b[0m \u001b[0;34m\u001b[0m\u001b[0m\n\u001b[0;32m---> 48\u001b[0;31m \u001b[0mimage\u001b[0m \u001b[0;34m=\u001b[0m \u001b[0mtraingles_path\u001b[0m\u001b[0;34m(\u001b[0m\u001b[0mdots_path\u001b[0m\u001b[0;34m,\u001b[0m \u001b[0;36m9\u001b[0m\u001b[0;34m)\u001b[0m\u001b[0;34m\u001b[0m\u001b[0;34m\u001b[0m\u001b[0m\n\u001b[0m\u001b[1;32m     49\u001b[0m \u001b[0mtr\u001b[0m \u001b[0;34m=\u001b[0m \u001b[0mmyTransform\u001b[0m\u001b[0;34m(\u001b[0m\u001b[0mimage\u001b[0m\u001b[0;34m)\u001b[0m\u001b[0;34m\u001b[0m\u001b[0;34m\u001b[0m\u001b[0m\n\u001b[1;32m     50\u001b[0m \u001b[0;34m\u001b[0m\u001b[0m\n",
      "\u001b[0;31mTypeError\u001b[0m: 'str' object is not callable"
     ]
    }
   ],
   "source": [
    "from PIL import Image\n",
    "from skimage import io, transform\n",
    "from matplotlib import pyplot\n",
    "\n",
    "import numpy as np\n",
    "import torch\n",
    "import torch.nn as nn\n",
    "import torch.nn.functional as F\n",
    "import torchvision as tv\n",
    "\n",
    "# constansts\n",
    "\n",
    "project_path = \"/home/krys/POLIBUDA/Patterns_database/\"\n",
    "\n",
    "dots_path = project_path + \"dots/dot\"\n",
    "paisley_path = project_path + \"paisley/paisley\"\n",
    "qua_path = project_path + \"qua/qua\"\n",
    "square_path = project_path + \"square/sq\"\n",
    "strips_path = project_path + \"strips/pas\"\n",
    "traingles_path = project_path + \"triangles/tr\"\n",
    "\n",
    "\n",
    "# functions\n",
    "\n",
    "def getImageTensor(path, idx):\n",
    "    \n",
    "    # loading image from local memory\n",
    "    \n",
    "    i_path = path + str(idx) + \".jpg\"\n",
    "    image = io.imread(i_path)\n",
    "    \n",
    "    return image\n",
    "    \n",
    "    \n",
    "def myTransform(image):\n",
    "\n",
    "    transformedImage =  tv.transforms.Compose([\n",
    "                        tv.transforms.ToPILImage(),\n",
    "                        tv.transforms.Grayscale(num_output_channels=1),\n",
    "                        tv.transforms.ToTensor()\n",
    "                      ])(image)\n",
    "    \n",
    "    transformedImage = transformedImage[0]\n",
    "\n",
    "    return transformedImage\n",
    "    \n",
    "\n",
    "image = traingles_path(dots_path, 9)\n",
    "tr = myTransform(image)\n",
    "\n",
    "pyplot.imshow(tr)\n",
    "\n",
    "\"\"\"\n",
    "def imageOrder(idx):\n",
    "    if idx % 6:\n",
    "        image = traingles_path()\n",
    "    elif idx % 5:\n",
    "        image = traingles_path()\n",
    "    elif idx % 4:\n",
    "        image = traingles_path()\n",
    "    elif idx % 3:\n",
    "        image = traingles_path()\n",
    "    elif idx % 2:\n",
    "        image = traingles_path()\n",
    "    else:\n",
    "        image = traingles_path()\n",
    "    \n",
    "    return image\"\"\"\n",
    "    "
   ]
  },
  {
   "cell_type": "code",
   "execution_count": null,
   "metadata": {},
   "outputs": [],
   "source": []
  }
 ],
 "metadata": {
  "kernelspec": {
   "display_name": "Python 3",
   "language": "python",
   "name": "python3"
  },
  "language_info": {
   "codemirror_mode": {
    "name": "ipython",
    "version": 3
   },
   "file_extension": ".py",
   "mimetype": "text/x-python",
   "name": "python",
   "nbconvert_exporter": "python",
   "pygments_lexer": "ipython3",
   "version": "3.7.3"
  }
 },
 "nbformat": 4,
 "nbformat_minor": 2
}
